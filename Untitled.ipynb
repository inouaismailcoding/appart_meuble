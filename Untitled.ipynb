{
 "cells": [
  {
   "cell_type": "code",
   "execution_count": 12,
   "id": "b759139e",
   "metadata": {},
   "outputs": [],
   "source": [
    "import sqlite3\n",
    "conn=sqlite3.connect('db.sqlite3')"
   ]
  },
  {
   "cell_type": "code",
   "execution_count": 13,
   "id": "e1fefca2",
   "metadata": {},
   "outputs": [
    {
     "data": {
      "text/plain": [
       "<sqlite3.Cursor at 0x7f62445aa9c0>"
      ]
     },
     "execution_count": 13,
     "metadata": {},
     "output_type": "execute_result"
    }
   ],
   "source": [
    "cur=conn.cursor()\n",
    "cur.execute(\"SELECT name FROM sqlite_master WHERE type='table'\")"
   ]
  },
  {
   "cell_type": "code",
   "execution_count": 14,
   "id": "8d9fd7d0",
   "metadata": {},
   "outputs": [],
   "source": [
    "tables=cur.fetchall()"
   ]
  },
  {
   "cell_type": "code",
   "execution_count": 16,
   "id": "d4c5d50a",
   "metadata": {},
   "outputs": [
    {
     "name": "stdout",
     "output_type": "stream",
     "text": [
      "django_migrations\n",
      "sqlite_sequence\n",
      "auth_group_permissions\n",
      "auth_user_groups\n",
      "auth_user_user_permissions\n",
      "django_admin_log\n",
      "django_content_type\n",
      "auth_permission\n",
      "auth_group\n",
      "auth_user\n",
      "django_session\n",
      "appart_country\n",
      "appart_propertytype\n",
      "appart_city\n",
      "appart_mediaproperty\n",
      "property_duplexdetails\n",
      "property_immeubledetails\n",
      "property_appartementdetails\n",
      "appart_address\n",
      "appart_property\n",
      "property_photo\n"
     ]
    }
   ],
   "source": [
    "for table in tables:\n",
    "    print(table[0])"
   ]
  },
  {
   "cell_type": "code",
   "execution_count": 17,
   "id": "f514708e",
   "metadata": {},
   "outputs": [
    {
     "data": {
      "text/plain": [
       "<sqlite3.Cursor at 0x7f62445aa9c0>"
      ]
     },
     "execution_count": 17,
     "metadata": {},
     "output_type": "execute_result"
    }
   ],
   "source": [
    "cur.execute('DELETE FROM property_duplexdetails')"
   ]
  },
  {
   "cell_type": "code",
   "execution_count": 18,
   "id": "e866e574",
   "metadata": {},
   "outputs": [],
   "source": [
    "conn.commit()"
   ]
  },
  {
   "cell_type": "code",
   "execution_count": 19,
   "id": "f3b27d60",
   "metadata": {},
   "outputs": [
    {
     "data": {
      "text/plain": [
       "<sqlite3.Cursor at 0x7f62445aa9c0>"
      ]
     },
     "execution_count": 19,
     "metadata": {},
     "output_type": "execute_result"
    }
   ],
   "source": [
    "cur.execute('DELETE FROM property_immeubledetails')"
   ]
  },
  {
   "cell_type": "code",
   "execution_count": 20,
   "id": "5c758663",
   "metadata": {},
   "outputs": [],
   "source": [
    "conn.commit()"
   ]
  },
  {
   "cell_type": "code",
   "execution_count": 21,
   "id": "d91dc3f9",
   "metadata": {},
   "outputs": [],
   "source": [
    "cur.execute('DELETE FROM property_immeubledetails')\n",
    "conn.commit()"
   ]
  },
  {
   "cell_type": "code",
   "execution_count": null,
   "id": "a5bdf427",
   "metadata": {},
   "outputs": [],
   "source": []
  }
 ],
 "metadata": {
  "kernelspec": {
   "display_name": "Python 3 (ipykernel)",
   "language": "python",
   "name": "python3"
  },
  "language_info": {
   "codemirror_mode": {
    "name": "ipython",
    "version": 3
   },
   "file_extension": ".py",
   "mimetype": "text/x-python",
   "name": "python",
   "nbconvert_exporter": "python",
   "pygments_lexer": "ipython3",
   "version": "3.10.12"
  }
 },
 "nbformat": 4,
 "nbformat_minor": 5
}
